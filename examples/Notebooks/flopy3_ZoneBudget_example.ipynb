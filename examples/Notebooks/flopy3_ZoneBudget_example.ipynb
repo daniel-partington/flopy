{
 "cells": [
  {
   "cell_type": "markdown",
   "metadata": {
    "deletable": true,
    "editable": true
   },
   "source": [
    "# FloPy\n",
    "\n",
    "### ZoneBudget Example\n",
    "\n",
    "This notebook demonstrates how to use the `ZoneBudget` class to extract budget information from the cell by cell budget file using an array of zones.\n",
    "\n",
    "First set the path and import the required packages. The flopy path doesn't have to be set if you install flopy from a binary installer. If you want to run this notebook, you have to set the path to your own flopy path."
   ]
  },
  {
   "cell_type": "code",
   "execution_count": 1,
   "metadata": {
    "collapsed": false,
    "deletable": true,
    "editable": true
   },
   "outputs": [
    {
     "name": "stdout",
     "output_type": "stream",
     "text": [
      "3.5.3 |Continuum Analytics, Inc.| (default, Feb 22 2017, 21:28:42) [MSC v.1900 64 bit (AMD64)]\n",
      "numpy version: 1.11.3\n",
      "matplotlib version: 2.0.0\n",
      "pandas version: 0.19.2\n",
      "flopy version: 3.2.7\n"
     ]
    }
   ],
   "source": [
    "%matplotlib inline\n",
    "import os\n",
    "import sys\n",
    "import platform\n",
    "import numpy as np\n",
    "import matplotlib as mpl\n",
    "import matplotlib.pyplot as plt\n",
    "import pandas as pd\n",
    "import flopy\n",
    "\n",
    "print(sys.version)\n",
    "print('numpy version: {}'.format(np.__version__))\n",
    "print('matplotlib version: {}'.format(mpl.__version__))\n",
    "print('pandas version: {}'.format(pd.__version__))\n",
    "print('flopy version: {}'.format(flopy.__version__))"
   ]
  },
  {
   "cell_type": "code",
   "execution_count": 2,
   "metadata": {
    "collapsed": false,
    "deletable": true,
    "editable": true
   },
   "outputs": [],
   "source": [
    "# Set path to example datafiles\n",
    "loadpth = os.path.join('..', 'data', 'zonbud_examples')\n",
    "cbc_f = os.path.join(loadpth, 'freyberg_mlt', 'freyberg.gitcbc')"
   ]
  },
  {
   "cell_type": "markdown",
   "metadata": {
    "deletable": true,
    "editable": true
   },
   "source": [
    "### Read File Containing Zones\n",
    "Using the `read_zbarray` utility, we can import zonebudget-style array files."
   ]
  },
  {
   "cell_type": "code",
   "execution_count": 3,
   "metadata": {
    "collapsed": false,
    "deletable": true,
    "editable": true
   },
   "outputs": [
    {
     "data": {
      "image/png": "[encoded data removed]",
      "text/plain": [
       "<matplotlib.figure.Figure at 0xd3cc695f28>"
      ]
     },
     "metadata": {},
     "output_type": "display_data"
    },
    {
     "data": {
      "text/plain": [
       "array([0, 1, 2, 3], dtype=int64)"
      ]
     },
     "execution_count": 3,
     "metadata": {},
     "output_type": "execute_result"
    }
   ],
   "source": [
    "from flopy.utils import read_zbarray\n",
    "\n",
    "zone_file = os.path.join(loadpth, 'zonef_mlt')\n",
    "zon = read_zbarray(zone_file)\n",
    "nlay, nrow, ncol = zon.shape\n",
    "\n",
    "fig = plt.figure(figsize=(10, 4))\n",
    "\n",
    "for lay in range(nlay):\n",
    "    ax = fig.add_subplot(1, nlay, lay+1)\n",
    "    im = ax.pcolormesh(zon[lay, :, :])\n",
    "    cbar = plt.colorbar(im)\n",
    "    plt.gca().set_aspect('equal')\n",
    "    \n",
    "plt.show()\n",
    "np.unique(zon)"
   ]
  },
  {
   "cell_type": "markdown",
   "metadata": {
    "deletable": true,
    "editable": true
   },
   "source": [
    "### Extract Budget Information from ZoneBudget Object\n",
    "\n",
    "At the core of the `ZoneBudget` object is a numpy structured array. The class provides some wrapper functions to help us interogate the array and save it to disk."
   ]
  },
  {
   "cell_type": "code",
   "execution_count": 4,
   "metadata": {
    "collapsed": false,
    "deletable": true,
    "editable": true
   },
   "outputs": [
    {
     "data": {
      "text/plain": [
       "array([(1097.0, 0, 1096, 'STORAGE_IN', 0.0, 0.0, 0.0),\n",
       "       (1097.0, 0, 1096, 'CONSTANT_HEAD_IN', 0.0, 0.0, 86.14904022216797),\n",
       "       (1097.0, 0, 1096, 'WELLS_IN', 0.0, 0.0, 0.0),\n",
       "       (1097.0, 0, 1096, 'DRAINS_IN', 0.0, 0.0, 0.0),\n",
       "       (1097.0, 0, 1096, 'RECHARGE_IN', 1306.9328665733337, 1299.4646787643433, 1277.0601153373718),\n",
       "       (1097.0, 0, 1096, 'ZONE_0_IN', 4802.644836425781, 3535.9047956466675, 3882.708930850029),\n",
       "       (1097.0, 0, 1096, 'ZONE_1_IN', 0.0, 3485.947250366211, 3202.0619506835938),\n",
       "       (1097.0, 0, 1096, 'ZONE_2_IN', 3823.0936737060547, 0.0, 2978.4641098976135),\n",
       "       (1097.0, 0, 1096, 'ZONE_3_IN', 3579.748610496521, 3084.417018890381, 0.0),\n",
       "       (1097.0, 0, 1096, 'TOTAL_IN', 13512.41998720169, 11405.733743667603, 11426.444146990776),\n",
       "       (1097.0, 0, 1096, 'STORAGE_OUT', 0.0, 0.0, 0.0),\n",
       "       (1097.0, 0, 1096, 'CONSTANT_HEAD_OUT', 101.54193305969238, 232.463134765625, 204.33761596679688),\n",
       "       (1097.0, 0, 1096, 'WELLS_OUT', 2656.7999267578125, 0.0, 0.0),\n",
       "       (1097.0, 0, 1096, 'DRAINS_OUT', 0.0, 0.0, 0.0),\n",
       "       (1097.0, 0, 1096, 'RECHARGE_OUT', 0.0, 0.0, 0.0),\n",
       "       (1097.0, 0, 1096, 'ZONE_0_OUT', 4066.0819091796875, 4371.711639404297, 4557.931823730469),\n",
       "       (1097.0, 0, 1096, 'ZONE_1_OUT', 0.0, 3823.0936737060547, 3579.748610496521),\n",
       "       (1097.0, 0, 1096, 'ZONE_2_OUT', 3485.947250366211, 0.0, 3084.417018890381),\n",
       "       (1097.0, 0, 1096, 'ZONE_3_OUT', 3202.0619506835938, 2978.4641098976135, 0.0),\n",
       "       (1097.0, 0, 1096, 'TOTAL_OUT', 13512.432970046997, 11405.73255777359, 11426.435069084167),\n",
       "       (1097.0, 0, 1096, 'IN-OUT', -0.012982845306396484, 0.0011858940124511719, 0.009077906608581543),\n",
       "       (1097.0, 0, 1096, 'PERCENT_DISCREPANCY', -9.608078406150355e-05, 1.0397350146459011e-05, 7.94465023225262e-05)], \n",
       "      dtype=[('totim', '<f4'), ('time_step', '<i4'), ('stress_period', '<i4'), ('name', '<U50'), ('ZONE_1', '<f8'), ('ZONE_2', '<f8'), ('ZONE_3', '<f8')])"
      ]
     },
     "execution_count": 4,
     "metadata": {},
     "output_type": "execute_result"
    }
   ],
   "source": [
    "# Create a ZoneBudget object and get the budget record array\n",
    "zb = flopy.utils.ZoneBudget(cbc_f, zon, kstpkper=(0, 1096))\n",
    "zb.get_budget()"
   ]
  },
  {
   "cell_type": "code",
   "execution_count": 5,
   "metadata": {
    "collapsed": false,
    "deletable": true,
    "editable": true
   },
   "outputs": [
    {
     "data": {
      "text/plain": [
       "array(['CONSTANT_HEAD_IN', 'CONSTANT_HEAD_OUT', 'DRAINS_IN', 'DRAINS_OUT',\n",
       "       'IN-OUT', 'PERCENT_DISCREPANCY', 'RECHARGE_IN', 'RECHARGE_OUT',\n",
       "       'STORAGE_IN', 'STORAGE_OUT', 'TOTAL_IN', 'TOTAL_OUT', 'WELLS_IN',\n",
       "       'WELLS_OUT', 'ZONE_0_IN', 'ZONE_0_OUT', 'ZONE_1_IN', 'ZONE_1_OUT',\n",
       "       'ZONE_2_IN', 'ZONE_2_OUT', 'ZONE_3_IN', 'ZONE_3_OUT'], \n",
       "      dtype='<U50')"
      ]
     },
     "execution_count": 5,
     "metadata": {},
     "output_type": "execute_result"
    }
   ],
   "source": [
    "# Get a list of the unique budget record names\n",
    "zb.get_record_names()"
   ]
  },
  {
   "cell_type": "code",
   "execution_count": 6,
   "metadata": {
    "collapsed": false,
    "deletable": true,
    "editable": true
   },
   "outputs": [
    {
     "data": {
      "text/plain": [
       "array([ (1097.0, 0, 1096, 'RECHARGE_IN', 1306.9328665733337, 1299.4646787643433, 1277.0601153373718),\n",
       "       (1097.0, 0, 1096, 'ZONE_1_IN', 0.0, 3485.947250366211, 3202.0619506835938),\n",
       "       (1097.0, 0, 1096, 'ZONE_3_IN', 3579.748610496521, 3084.417018890381, 0.0)], \n",
       "      dtype=[('totim', '<f4'), ('time_step', '<i4'), ('stress_period', '<i4'), ('name', '<U50'), ('ZONE_1', '<f8'), ('ZONE_2', '<f8'), ('ZONE_3', '<f8')])"
      ]
     },
     "execution_count": 6,
     "metadata": {},
     "output_type": "execute_result"
    }
   ],
   "source": [
    "# Look at a subset of fluxes\n",
    "names = ['RECHARGE_IN', 'ZONE_1_IN', 'ZONE_3_IN']\n",
    "zb.get_budget(names=names)"
   ]
  },
  {
   "cell_type": "code",
   "execution_count": 7,
   "metadata": {
    "collapsed": false,
    "deletable": true,
    "editable": true
   },
   "outputs": [
    {
     "data": {
      "text/plain": [
       "array([(1097.0, 0, 1096, 'RECHARGE_IN', 1299.4646787643433),\n",
       "       (1097.0, 0, 1096, 'ZONE_1_IN', 3485.947250366211),\n",
       "       (1097.0, 0, 1096, 'ZONE_3_IN', 3084.417018890381)], \n",
       "      dtype=[('totim', '<f4'), ('time_step', '<i4'), ('stress_period', '<i4'), ('name', '<U50'), ('ZONE_2', '<f8')])"
      ]
     },
     "execution_count": 7,
     "metadata": {},
     "output_type": "execute_result"
    }
   ],
   "source": [
    "# Look at fluxes in from zone 2\n",
    "names = ['RECHARGE_IN', 'ZONE_1_IN', 'ZONE_3_IN']\n",
    "zones = ['ZONE_2']\n",
    "zb.get_budget(names=names, zones=zones)"
   ]
  },
  {
   "cell_type": "code",
   "execution_count": 8,
   "metadata": {
    "collapsed": false,
    "deletable": true,
    "editable": true
   },
   "outputs": [
    {
     "data": {
      "text/plain": [
       "array([ (1097.0, 0, 1096, 'TOTAL_IN', 13512.41998720169, 11405.733743667603, 11426.444146990776),\n",
       "       (1097.0, 0, 1096, 'TOTAL_OUT', 13512.432970046997, 11405.73255777359, 11426.435069084167)], \n",
       "      dtype=[('totim', '<f4'), ('time_step', '<i4'), ('stress_period', '<i4'), ('name', '<U50'), ('ZONE_1', '<f8'), ('ZONE_2', '<f8'), ('ZONE_3', '<f8')])"
      ]
     },
     "execution_count": 8,
     "metadata": {},
     "output_type": "execute_result"
    }
   ],
   "source": [
    "# Look at all of the mass-balance records\n",
    "names = ['TOTAL_IN', 'TOTAL_OUT', 'IN-OUT', 'PERCENT_DISCREPANCY']\n",
    "zb.get_budget(names=names)"
   ]
  },
  {
   "cell_type": "markdown",
   "metadata": {
    "deletable": true,
    "editable": true
   },
   "source": [
    "### Convert Units\n",
    "The `ZoneBudget` class supports the use of mathematical operators and returns a new copy of the object."
   ]
  },
  {
   "cell_type": "code",
   "execution_count": 9,
   "metadata": {
    "collapsed": false,
    "deletable": true,
    "editable": true
   },
   "outputs": [
    {
     "name": "stdout",
     "output_type": "stream",
     "text": [
      "1,580.5 cubic meters/day\n",
      "44.8 cubic feet/day\n",
      "3.1 inches/year\n"
     ]
    }
   ],
   "source": [
    "cmd = flopy.utils.ZoneBudget(cbc_f, zon, kstpkper=(0, 0))\n",
    "cfd = cmd / 35.3147\n",
    "inyr = (cfd / (250 * 250)) * 365 * 12\n",
    "\n",
    "cmdbud = cmd.get_budget()\n",
    "cfdbud = cfd.get_budget()\n",
    "inyrbud = inyr.get_budget()\n",
    "\n",
    "names = ['RECHARGE_IN']\n",
    "rowidx = np.in1d(cmdbud['name'], names)\n",
    "colidx = 'ZONE_1'\n",
    "\n",
    "print('{:,.1f} cubic meters/day'.format(cmdbud[rowidx][colidx][0]))\n",
    "print('{:,.1f} cubic feet/day'.format(cfdbud[rowidx][colidx][0]))\n",
    "print('{:,.1f} inches/year'.format(inyrbud[rowidx][colidx][0]))"
   ]
  },
  {
   "cell_type": "code",
   "execution_count": 10,
   "metadata": {
    "collapsed": false,
    "deletable": true,
    "editable": true
   },
   "outputs": [
    {
     "data": {
      "text/plain": [
       "False"
      ]
     },
     "execution_count": 10,
     "metadata": {},
     "output_type": "execute_result"
    }
   ],
   "source": [
    "cmd is cfd"
   ]
  },
  {
   "cell_type": "markdown",
   "metadata": {
    "deletable": true,
    "editable": true
   },
   "source": [
    "### Alias Names\n",
    "A dictionary of {zone: \"alias\"} pairs can be passed to replace the typical \"ZONE_X\" fieldnames of the `ZoneBudget` structured array with more descriptive names."
   ]
  },
  {
   "cell_type": "code",
   "execution_count": 11,
   "metadata": {
    "collapsed": false,
    "deletable": true,
    "editable": true
   },
   "outputs": [
    {
     "data": {
      "text/plain": [
       "array([(1097.0, 0, 1096, 'STORAGE_IN', 0.0, 0.0, 0.0),\n",
       "       (1097.0, 0, 1096, 'CONSTANT_HEAD_IN', 0.0, 0.0, 86.14904022216797),\n",
       "       (1097.0, 0, 1096, 'WELLS_IN', 0.0, 0.0, 0.0),\n",
       "       (1097.0, 0, 1096, 'DRAINS_IN', 0.0, 0.0, 0.0),\n",
       "       (1097.0, 0, 1096, 'RECHARGE_IN', 1306.9328665733337, 1299.4646787643433, 1277.0601153373718),\n",
       "       (1097.0, 0, 1096, 'ZONE_0_IN', 4802.644836425781, 3535.9047956466675, 3882.708930850029),\n",
       "       (1097.0, 0, 1096, 'SURF_IN', 0.0, 3485.947250366211, 3202.0619506835938),\n",
       "       (1097.0, 0, 1096, 'CONF_IN', 3823.0936737060547, 0.0, 2978.4641098976135),\n",
       "       (1097.0, 0, 1096, 'UFA_IN', 3579.748610496521, 3084.417018890381, 0.0),\n",
       "       (1097.0, 0, 1096, 'TOTAL_IN', 13512.41998720169, 11405.733743667603, 11426.444146990776),\n",
       "       (1097.0, 0, 1096, 'STORAGE_OUT', 0.0, 0.0, 0.0),\n",
       "       (1097.0, 0, 1096, 'CONSTANT_HEAD_OUT', 101.54193305969238, 232.463134765625, 204.33761596679688),\n",
       "       (1097.0, 0, 1096, 'WELLS_OUT', 2656.7999267578125, 0.0, 0.0),\n",
       "       (1097.0, 0, 1096, 'DRAINS_OUT', 0.0, 0.0, 0.0),\n",
       "       (1097.0, 0, 1096, 'RECHARGE_OUT', 0.0, 0.0, 0.0),\n",
       "       (1097.0, 0, 1096, 'ZONE_0_OUT', 4066.0819091796875, 4371.711639404297, 4557.931823730469),\n",
       "       (1097.0, 0, 1096, 'SURF_OUT', 0.0, 3823.0936737060547, 3579.748610496521),\n",
       "       (1097.0, 0, 1096, 'CONF_OUT', 3485.947250366211, 0.0, 3084.417018890381),\n",
       "       (1097.0, 0, 1096, 'UFA_OUT', 3202.0619506835938, 2978.4641098976135, 0.0),\n",
       "       (1097.0, 0, 1096, 'TOTAL_OUT', 13512.432970046997, 11405.73255777359, 11426.435069084167),\n",
       "       (1097.0, 0, 1096, 'IN-OUT', -0.012982845306396484, 0.0011858940124511719, 0.009077906608581543),\n",
       "       (1097.0, 0, 1096, 'PERCENT_DISCREPANCY', -9.608078406150355e-05, 1.0397350146459011e-05, 7.94465023225262e-05)], \n",
       "      dtype=[('totim', '<f4'), ('time_step', '<i4'), ('stress_period', '<i4'), ('name', '<U50'), ('SURF', '<f8'), ('CONF', '<f8'), ('UFA', '<f8')])"
      ]
     },
     "execution_count": 11,
     "metadata": {},
     "output_type": "execute_result"
    }
   ],
   "source": [
    "aliases = {1: 'SURF', 2:'CONF', 3: 'UFA'}\n",
    "zb = flopy.utils.ZoneBudget(cbc_f, zon, totim=[1097.], aliases=aliases)\n",
    "zb.get_budget()"
   ]
  },
  {
   "cell_type": "markdown",
   "metadata": {
    "deletable": true,
    "editable": true
   },
   "source": [
    "### Return the Budgets as a Pandas DataFrame\n",
    "Set `kstpkper` and `totim` keyword args to `None` (or omit) to return all times.\n",
    "The `get_dataframes()` method will return a DataFrame multi-indexed on `totim` and `name`."
   ]
  },
  {
   "cell_type": "code",
   "execution_count": 12,
   "metadata": {
    "collapsed": false,
    "deletable": true,
    "editable": true
   },
   "outputs": [
    {
     "name": "stdout",
     "output_type": "stream",
     "text": [
      "                                SURF        CONF          UFA\n",
      "totim name                                                   \n",
      "1.0   CONF_IN            2218.183105    0.000000  1863.491943\n",
      "      CONF_OUT           3752.850586    0.000000  1096.248657\n",
      "      CONSTANT_HEAD_IN      0.000000    0.000000     0.000000\n",
      "      CONSTANT_HEAD_OUT   911.639771  767.433716   767.249390\n",
      "      DRAINS_IN             0.000000    0.000000     0.000000\n",
      "                         SURF         CONF          UFA\n",
      "totim  name                                            \n",
      "1097.0 TOTAL_OUT  8328.821304  4869.630325  1725.220764\n",
      "       UFA_IN        0.000000  1487.757812     0.000000\n",
      "       UFA_OUT       0.000000  1639.001221     0.000000\n",
      "       WELLS_IN      0.000000     0.000000     0.000000\n",
      "       WELLS_OUT  4762.799942     0.000000     0.000000\n"
     ]
    }
   ],
   "source": [
    "zon = np.ones((nlay, nrow, ncol), np.int)\n",
    "zon[1, :, :] = 2\n",
    "zon[2, :, :] = 3\n",
    "\n",
    "aliases = {1: 'SURF', 2:'CONF', 3: 'UFA'}\n",
    "zb = flopy.utils.ZoneBudget(cbc_f, zon, kstpkper=None, totim=None, aliases=aliases)\n",
    "df = zb.get_dataframes()\n",
    "print(df.head())\n",
    "print(df.tail())"
   ]
  },
  {
   "cell_type": "markdown",
   "metadata": {
    "deletable": true,
    "editable": true
   },
   "source": [
    "Slice the multi-index dataframe to retrieve a subset of the budget.\n",
    "NOTE: We can now pass \"names\" directly to the `get_dataframes()` method to return a subset of reocrds. By omitting the `\"_IN\"` or `\"_OUT\"` suffix we get both."
   ]
  },
  {
   "cell_type": "code",
   "execution_count": 13,
   "metadata": {
    "collapsed": false,
    "deletable": true,
    "editable": true
   },
   "outputs": [
    {
     "data": {
      "text/html": [
       "<div>\n",
       "<table border=\"1\" class=\"dataframe\">\n",
       "  <thead>\n",
       "    <tr style=\"text-align: right;\">\n",
       "      <th></th>\n",
       "      <th></th>\n",
       "      <th>SURF</th>\n",
       "      <th>CONF</th>\n",
       "    </tr>\n",
       "    <tr>\n",
       "      <th>totim</th>\n",
       "      <th>name</th>\n",
       "      <th></th>\n",
       "      <th></th>\n",
       "    </tr>\n",
       "  </thead>\n",
       "  <tbody>\n",
       "    <tr>\n",
       "      <th rowspan=\"4\" valign=\"top\">1092.0</th>\n",
       "      <th>CONSTANT_HEAD_IN</th>\n",
       "      <td>8.232683</td>\n",
       "      <td>4.993078</td>\n",
       "    </tr>\n",
       "    <tr>\n",
       "      <th>CONSTANT_HEAD_OUT</th>\n",
       "      <td>717.869995</td>\n",
       "      <td>608.265503</td>\n",
       "    </tr>\n",
       "    <tr>\n",
       "      <th>RECHARGE_IN</th>\n",
       "      <td>6070.894356</td>\n",
       "      <td>0.000000</td>\n",
       "    </tr>\n",
       "    <tr>\n",
       "      <th>WELLS_OUT</th>\n",
       "      <td>2829.812140</td>\n",
       "      <td>0.000000</td>\n",
       "    </tr>\n",
       "    <tr>\n",
       "      <th rowspan=\"4\" valign=\"top\">1093.0</th>\n",
       "      <th>CONSTANT_HEAD_IN</th>\n",
       "      <td>10.557623</td>\n",
       "      <td>6.348190</td>\n",
       "    </tr>\n",
       "    <tr>\n",
       "      <th>CONSTANT_HEAD_OUT</th>\n",
       "      <td>708.597717</td>\n",
       "      <td>600.514709</td>\n",
       "    </tr>\n",
       "    <tr>\n",
       "      <th>RECHARGE_IN</th>\n",
       "      <td>4240.286350</td>\n",
       "      <td>0.000000</td>\n",
       "    </tr>\n",
       "    <tr>\n",
       "      <th>WELLS_OUT</th>\n",
       "      <td>1930.483119</td>\n",
       "      <td>0.000000</td>\n",
       "    </tr>\n",
       "    <tr>\n",
       "      <th rowspan=\"4\" valign=\"top\">1094.0</th>\n",
       "      <th>CONSTANT_HEAD_IN</th>\n",
       "      <td>11.797873</td>\n",
       "      <td>7.080081</td>\n",
       "    </tr>\n",
       "    <tr>\n",
       "      <th>CONSTANT_HEAD_OUT</th>\n",
       "      <td>702.379089</td>\n",
       "      <td>595.157471</td>\n",
       "    </tr>\n",
       "    <tr>\n",
       "      <th>RECHARGE_IN</th>\n",
       "      <td>4082.749522</td>\n",
       "      <td>0.000000</td>\n",
       "    </tr>\n",
       "    <tr>\n",
       "      <th>WELLS_OUT</th>\n",
       "      <td>1279.166363</td>\n",
       "      <td>0.000000</td>\n",
       "    </tr>\n",
       "    <tr>\n",
       "      <th rowspan=\"4\" valign=\"top\">1095.0</th>\n",
       "      <th>CONSTANT_HEAD_IN</th>\n",
       "      <td>9.060410</td>\n",
       "      <td>5.471514</td>\n",
       "    </tr>\n",
       "    <tr>\n",
       "      <th>CONSTANT_HEAD_OUT</th>\n",
       "      <td>717.303589</td>\n",
       "      <td>607.924377</td>\n",
       "    </tr>\n",
       "    <tr>\n",
       "      <th>RECHARGE_IN</th>\n",
       "      <td>5053.779073</td>\n",
       "      <td>0.000000</td>\n",
       "    </tr>\n",
       "    <tr>\n",
       "      <th>WELLS_OUT</th>\n",
       "      <td>794.582903</td>\n",
       "      <td>0.000000</td>\n",
       "    </tr>\n",
       "    <tr>\n",
       "      <th rowspan=\"4\" valign=\"top\">1096.0</th>\n",
       "      <th>CONSTANT_HEAD_IN</th>\n",
       "      <td>4.007133</td>\n",
       "      <td>2.494755</td>\n",
       "    </tr>\n",
       "    <tr>\n",
       "      <th>CONSTANT_HEAD_OUT</th>\n",
       "      <td>744.257141</td>\n",
       "      <td>631.000854</td>\n",
       "    </tr>\n",
       "    <tr>\n",
       "      <th>RECHARGE_IN</th>\n",
       "      <td>6168.920364</td>\n",
       "      <td>0.000000</td>\n",
       "    </tr>\n",
       "    <tr>\n",
       "      <th>WELLS_OUT</th>\n",
       "      <td>1373.782646</td>\n",
       "      <td>0.000000</td>\n",
       "    </tr>\n",
       "    <tr>\n",
       "      <th rowspan=\"4\" valign=\"top\">1097.0</th>\n",
       "      <th>CONSTANT_HEAD_IN</th>\n",
       "      <td>145.417542</td>\n",
       "      <td>86.149040</td>\n",
       "    </tr>\n",
       "    <tr>\n",
       "      <th>CONSTANT_HEAD_OUT</th>\n",
       "      <td>270.298218</td>\n",
       "      <td>237.602493</td>\n",
       "    </tr>\n",
       "    <tr>\n",
       "      <th>RECHARGE_IN</th>\n",
       "      <td>5190.390527</td>\n",
       "      <td>0.000000</td>\n",
       "    </tr>\n",
       "    <tr>\n",
       "      <th>WELLS_OUT</th>\n",
       "      <td>4762.799942</td>\n",
       "      <td>0.000000</td>\n",
       "    </tr>\n",
       "  </tbody>\n",
       "</table>\n",
       "</div>"
      ],
      "text/plain": [
       "                                 SURF        CONF\n",
       "totim  name                                      \n",
       "1092.0 CONSTANT_HEAD_IN      8.232683    4.993078\n",
       "       CONSTANT_HEAD_OUT   717.869995  608.265503\n",
       "       RECHARGE_IN        6070.894356    0.000000\n",
       "       WELLS_OUT          2829.812140    0.000000\n",
       "1093.0 CONSTANT_HEAD_IN     10.557623    6.348190\n",
       "       CONSTANT_HEAD_OUT   708.597717  600.514709\n",
       "       RECHARGE_IN        4240.286350    0.000000\n",
       "       WELLS_OUT          1930.483119    0.000000\n",
       "1094.0 CONSTANT_HEAD_IN     11.797873    7.080081\n",
       "       CONSTANT_HEAD_OUT   702.379089  595.157471\n",
       "       RECHARGE_IN        4082.749522    0.000000\n",
       "       WELLS_OUT          1279.166363    0.000000\n",
       "1095.0 CONSTANT_HEAD_IN      9.060410    5.471514\n",
       "       CONSTANT_HEAD_OUT   717.303589  607.924377\n",
       "       RECHARGE_IN        5053.779073    0.000000\n",
       "       WELLS_OUT           794.582903    0.000000\n",
       "1096.0 CONSTANT_HEAD_IN      4.007133    2.494755\n",
       "       CONSTANT_HEAD_OUT   744.257141  631.000854\n",
       "       RECHARGE_IN        6168.920364    0.000000\n",
       "       WELLS_OUT          1373.782646    0.000000\n",
       "1097.0 CONSTANT_HEAD_IN    145.417542   86.149040\n",
       "       CONSTANT_HEAD_OUT   270.298218  237.602493\n",
       "       RECHARGE_IN        5190.390527    0.000000\n",
       "       WELLS_OUT          4762.799942    0.000000"
      ]
     },
     "execution_count": 13,
     "metadata": {},
     "output_type": "execute_result"
    }
   ],
   "source": [
    "dateidx1 = 1092.\n",
    "dateidx2 = 1097.\n",
    "names = ['RECHARGE_IN', 'WELLS_OUT', 'CONSTANT_HEAD']\n",
    "zones = ['SURF', 'CONF']\n",
    "df = zb.get_dataframes(names=names)\n",
    "df.loc[(slice(dateidx1, dateidx2), slice(None)), :][zones]"
   ]
  },
  {
   "cell_type": "markdown",
   "metadata": {
    "deletable": true,
    "editable": true
   },
   "source": [
    "Look at pumpage (`WELLS_OUT`) as a percentage of recharge (`RECHARGE_IN`)"
   ]
  },
  {
   "cell_type": "code",
   "execution_count": 14,
   "metadata": {
    "collapsed": false,
    "deletable": true,
    "editable": true
   },
   "outputs": [
    {
     "data": {
      "text/html": [
       "<div>\n",
       "<table border=\"1\" class=\"dataframe\">\n",
       "  <thead>\n",
       "    <tr style=\"text-align: right;\">\n",
       "      <th></th>\n",
       "      <th>SURF</th>\n",
       "    </tr>\n",
       "    <tr>\n",
       "      <th>totim</th>\n",
       "      <th></th>\n",
       "    </tr>\n",
       "  </thead>\n",
       "  <tbody>\n",
       "    <tr>\n",
       "      <th>1092.0</th>\n",
       "      <td>-46.612772</td>\n",
       "    </tr>\n",
       "    <tr>\n",
       "      <th>1093.0</th>\n",
       "      <td>-45.527188</td>\n",
       "    </tr>\n",
       "    <tr>\n",
       "      <th>1094.0</th>\n",
       "      <td>-31.331003</td>\n",
       "    </tr>\n",
       "    <tr>\n",
       "      <th>1095.0</th>\n",
       "      <td>-15.722549</td>\n",
       "    </tr>\n",
       "    <tr>\n",
       "      <th>1096.0</th>\n",
       "      <td>-22.269418</td>\n",
       "    </tr>\n",
       "    <tr>\n",
       "      <th>1097.0</th>\n",
       "      <td>-91.761880</td>\n",
       "    </tr>\n",
       "  </tbody>\n",
       "</table>\n",
       "</div>"
      ],
      "text/plain": [
       "             SURF\n",
       "totim            \n",
       "1092.0 -46.612772\n",
       "1093.0 -45.527188\n",
       "1094.0 -31.331003\n",
       "1095.0 -15.722549\n",
       "1096.0 -22.269418\n",
       "1097.0 -91.761880"
      ]
     },
     "execution_count": 14,
     "metadata": {},
     "output_type": "execute_result"
    }
   ],
   "source": [
    "dateidx1 = 1092.\n",
    "dateidx2 = 1097.\n",
    "zones = ['SURF']\n",
    "\n",
    "# Pull out the individual records of interest\n",
    "rech = df.loc[(slice(dateidx1, dateidx2), ['RECHARGE_IN']), :][zones]\n",
    "pump = df.loc[(slice(dateidx1, dateidx2), ['WELLS_OUT']), :][zones]\n",
    "\n",
    "# Remove the \"record\" field from the index so we can \n",
    "# take the difference of the two DataFrames\n",
    "rech = rech.reset_index()\n",
    "rech = rech.set_index(['totim'])\n",
    "rech = rech[zones]\n",
    "pump = pump.reset_index()\n",
    "pump = pump.set_index(['totim'])\n",
    "pump = pump[zones] * -1\n",
    "\n",
    "# Compute pumping as a percentage of recharge\n",
    "pump_as_pct = (pump / rech) * 100.\n",
    "pump_as_pct"
   ]
  },
  {
   "cell_type": "markdown",
   "metadata": {
    "deletable": true,
    "editable": true
   },
   "source": [
    "Pass `start_datetime` and `timeunit` keyword arguments to return a dataframe with a datetime multi-index"
   ]
  },
  {
   "cell_type": "code",
   "execution_count": 15,
   "metadata": {
    "collapsed": false,
    "deletable": true,
    "editable": true
   },
   "outputs": [
    {
     "data": {
      "text/html": [
       "<div>\n",
       "<table border=\"1\" class=\"dataframe\">\n",
       "  <thead>\n",
       "    <tr style=\"text-align: right;\">\n",
       "      <th></th>\n",
       "      <th></th>\n",
       "      <th>SURF</th>\n",
       "      <th>CONF</th>\n",
       "    </tr>\n",
       "    <tr>\n",
       "      <th>datetime</th>\n",
       "      <th>name</th>\n",
       "      <th></th>\n",
       "      <th></th>\n",
       "    </tr>\n",
       "  </thead>\n",
       "  <tbody>\n",
       "    <tr>\n",
       "      <th rowspan=\"4\" valign=\"top\">1972-12-01</th>\n",
       "      <th>CONSTANT_HEAD_IN</th>\n",
       "      <td>0.000000</td>\n",
       "      <td>0.000000</td>\n",
       "    </tr>\n",
       "    <tr>\n",
       "      <th>CONSTANT_HEAD_OUT</th>\n",
       "      <td>845.552979</td>\n",
       "      <td>717.054688</td>\n",
       "    </tr>\n",
       "    <tr>\n",
       "      <th>RECHARGE_IN</th>\n",
       "      <td>8331.025639</td>\n",
       "      <td>0.000000</td>\n",
       "    </tr>\n",
       "    <tr>\n",
       "      <th>WELLS_OUT</th>\n",
       "      <td>5903.374154</td>\n",
       "      <td>0.000000</td>\n",
       "    </tr>\n",
       "    <tr>\n",
       "      <th rowspan=\"4\" valign=\"top\">1972-12-02</th>\n",
       "      <th>CONSTANT_HEAD_IN</th>\n",
       "      <td>0.000000</td>\n",
       "      <td>0.000000</td>\n",
       "    </tr>\n",
       "    <tr>\n",
       "      <th>CONSTANT_HEAD_OUT</th>\n",
       "      <td>848.445923</td>\n",
       "      <td>719.648071</td>\n",
       "    </tr>\n",
       "    <tr>\n",
       "      <th>RECHARGE_IN</th>\n",
       "      <td>7553.003516</td>\n",
       "      <td>0.000000</td>\n",
       "    </tr>\n",
       "    <tr>\n",
       "      <th>WELLS_OUT</th>\n",
       "      <td>1705.206116</td>\n",
       "      <td>0.000000</td>\n",
       "    </tr>\n",
       "    <tr>\n",
       "      <th rowspan=\"4\" valign=\"top\">1972-12-03</th>\n",
       "      <th>CONSTANT_HEAD_IN</th>\n",
       "      <td>0.000000</td>\n",
       "      <td>0.000000</td>\n",
       "    </tr>\n",
       "    <tr>\n",
       "      <th>CONSTANT_HEAD_OUT</th>\n",
       "      <td>835.000916</td>\n",
       "      <td>708.997253</td>\n",
       "    </tr>\n",
       "    <tr>\n",
       "      <th>RECHARGE_IN</th>\n",
       "      <td>5630.780802</td>\n",
       "      <td>0.000000</td>\n",
       "    </tr>\n",
       "    <tr>\n",
       "      <th>WELLS_OUT</th>\n",
       "      <td>2157.596333</td>\n",
       "      <td>0.000000</td>\n",
       "    </tr>\n",
       "    <tr>\n",
       "      <th rowspan=\"4\" valign=\"top\">1972-12-04</th>\n",
       "      <th>CONSTANT_HEAD_IN</th>\n",
       "      <td>0.000000</td>\n",
       "      <td>0.000000</td>\n",
       "    </tr>\n",
       "    <tr>\n",
       "      <th>CONSTANT_HEAD_OUT</th>\n",
       "      <td>831.632568</td>\n",
       "      <td>706.147217</td>\n",
       "    </tr>\n",
       "    <tr>\n",
       "      <th>RECHARGE_IN</th>\n",
       "      <td>6026.509709</td>\n",
       "      <td>0.000000</td>\n",
       "    </tr>\n",
       "    <tr>\n",
       "      <th>WELLS_OUT</th>\n",
       "      <td>5252.826000</td>\n",
       "      <td>0.000000</td>\n",
       "    </tr>\n",
       "    <tr>\n",
       "      <th rowspan=\"4\" valign=\"top\">1972-12-05</th>\n",
       "      <th>CONSTANT_HEAD_IN</th>\n",
       "      <td>0.000000</td>\n",
       "      <td>0.000000</td>\n",
       "    </tr>\n",
       "    <tr>\n",
       "      <th>CONSTANT_HEAD_OUT</th>\n",
       "      <td>847.015320</td>\n",
       "      <td>718.418274</td>\n",
       "    </tr>\n",
       "    <tr>\n",
       "      <th>RECHARGE_IN</th>\n",
       "      <td>7979.104075</td>\n",
       "      <td>0.000000</td>\n",
       "    </tr>\n",
       "    <tr>\n",
       "      <th>WELLS_OUT</th>\n",
       "      <td>6158.951546</td>\n",
       "      <td>0.000000</td>\n",
       "    </tr>\n",
       "    <tr>\n",
       "      <th rowspan=\"4\" valign=\"top\">1972-12-06</th>\n",
       "      <th>CONSTANT_HEAD_IN</th>\n",
       "      <td>0.000000</td>\n",
       "      <td>0.000000</td>\n",
       "    </tr>\n",
       "    <tr>\n",
       "      <th>CONSTANT_HEAD_OUT</th>\n",
       "      <td>855.501160</td>\n",
       "      <td>725.291626</td>\n",
       "    </tr>\n",
       "    <tr>\n",
       "      <th>RECHARGE_IN</th>\n",
       "      <td>8254.627576</td>\n",
       "      <td>0.000000</td>\n",
       "    </tr>\n",
       "    <tr>\n",
       "      <th>WELLS_OUT</th>\n",
       "      <td>2989.254021</td>\n",
       "      <td>0.000000</td>\n",
       "    </tr>\n",
       "  </tbody>\n",
       "</table>\n",
       "</div>"
      ],
      "text/plain": [
       "                                     SURF        CONF\n",
       "datetime   name                                      \n",
       "1972-12-01 CONSTANT_HEAD_IN      0.000000    0.000000\n",
       "           CONSTANT_HEAD_OUT   845.552979  717.054688\n",
       "           RECHARGE_IN        8331.025639    0.000000\n",
       "           WELLS_OUT          5903.374154    0.000000\n",
       "1972-12-02 CONSTANT_HEAD_IN      0.000000    0.000000\n",
       "           CONSTANT_HEAD_OUT   848.445923  719.648071\n",
       "           RECHARGE_IN        7553.003516    0.000000\n",
       "           WELLS_OUT          1705.206116    0.000000\n",
       "1972-12-03 CONSTANT_HEAD_IN      0.000000    0.000000\n",
       "           CONSTANT_HEAD_OUT   835.000916  708.997253\n",
       "           RECHARGE_IN        5630.780802    0.000000\n",
       "           WELLS_OUT          2157.596333    0.000000\n",
       "1972-12-04 CONSTANT_HEAD_IN      0.000000    0.000000\n",
       "           CONSTANT_HEAD_OUT   831.632568  706.147217\n",
       "           RECHARGE_IN        6026.509709    0.000000\n",
       "           WELLS_OUT          5252.826000    0.000000\n",
       "1972-12-05 CONSTANT_HEAD_IN      0.000000    0.000000\n",
       "           CONSTANT_HEAD_OUT   847.015320  718.418274\n",
       "           RECHARGE_IN        7979.104075    0.000000\n",
       "           WELLS_OUT          6158.951546    0.000000\n",
       "1972-12-06 CONSTANT_HEAD_IN      0.000000    0.000000\n",
       "           CONSTANT_HEAD_OUT   855.501160  725.291626\n",
       "           RECHARGE_IN        8254.627576    0.000000\n",
       "           WELLS_OUT          2989.254021    0.000000"
      ]
     },
     "execution_count": 15,
     "metadata": {},
     "output_type": "execute_result"
    }
   ],
   "source": [
    "dateidx1 = pd.Timestamp('1972-12-01')\n",
    "dateidx2 = pd.Timestamp('1972-12-06')\n",
    "names = ['RECHARGE_IN', 'WELLS_OUT', 'CONSTANT_HEAD']\n",
    "zones = ['SURF', 'CONF']\n",
    "df = zb.get_dataframes(start_datetime='1970-01-01', timeunit='D', names=names)\n",
    "df.loc[(slice(dateidx1, dateidx2), slice(None)), :][zones]"
   ]
  },
  {
   "cell_type": "markdown",
   "metadata": {
    "deletable": true,
    "editable": true
   },
   "source": [
    "Pass `index_key` to indicate which fields to use in the multi-index (defualt is \"totim\"; valid keys are \"totim\" and \"kstpkper\")"
   ]
  },
  {
   "cell_type": "code",
   "execution_count": 16,
   "metadata": {
    "collapsed": false,
    "deletable": true,
    "editable": true
   },
   "outputs": [
    {
     "data": {
      "text/html": [
       "<div>\n",
       "<table border=\"1\" class=\"dataframe\">\n",
       "  <thead>\n",
       "    <tr style=\"text-align: right;\">\n",
       "      <th></th>\n",
       "      <th></th>\n",
       "      <th></th>\n",
       "      <th>SURF</th>\n",
       "      <th>CONF</th>\n",
       "      <th>UFA</th>\n",
       "    </tr>\n",
       "    <tr>\n",
       "      <th>time_step</th>\n",
       "      <th>stress_period</th>\n",
       "      <th>name</th>\n",
       "      <th></th>\n",
       "      <th></th>\n",
       "      <th></th>\n",
       "    </tr>\n",
       "  </thead>\n",
       "  <tbody>\n",
       "    <tr>\n",
       "      <th rowspan=\"5\" valign=\"top\">0</th>\n",
       "      <th rowspan=\"5\" valign=\"top\">0</th>\n",
       "      <th>CONF_IN</th>\n",
       "      <td>2218.183105</td>\n",
       "      <td>0.000000</td>\n",
       "      <td>1863.491943</td>\n",
       "    </tr>\n",
       "    <tr>\n",
       "      <th>CONF_OUT</th>\n",
       "      <td>3752.850586</td>\n",
       "      <td>0.000000</td>\n",
       "      <td>1096.248657</td>\n",
       "    </tr>\n",
       "    <tr>\n",
       "      <th>CONSTANT_HEAD_IN</th>\n",
       "      <td>0.000000</td>\n",
       "      <td>0.000000</td>\n",
       "      <td>0.000000</td>\n",
       "    </tr>\n",
       "    <tr>\n",
       "      <th>CONSTANT_HEAD_OUT</th>\n",
       "      <td>911.639771</td>\n",
       "      <td>767.433716</td>\n",
       "      <td>767.249390</td>\n",
       "    </tr>\n",
       "    <tr>\n",
       "      <th>DRAINS_IN</th>\n",
       "      <td>0.000000</td>\n",
       "      <td>0.000000</td>\n",
       "      <td>0.000000</td>\n",
       "    </tr>\n",
       "  </tbody>\n",
       "</table>\n",
       "</div>"
      ],
      "text/plain": [
       "                                                  SURF        CONF  \\\n",
       "time_step stress_period name                                         \n",
       "0         0             CONF_IN            2218.183105    0.000000   \n",
       "                        CONF_OUT           3752.850586    0.000000   \n",
       "                        CONSTANT_HEAD_IN      0.000000    0.000000   \n",
       "                        CONSTANT_HEAD_OUT   911.639771  767.433716   \n",
       "                        DRAINS_IN             0.000000    0.000000   \n",
       "\n",
       "                                                   UFA  \n",
       "time_step stress_period name                            \n",
       "0         0             CONF_IN            1863.491943  \n",
       "                        CONF_OUT           1096.248657  \n",
       "                        CONSTANT_HEAD_IN      0.000000  \n",
       "                        CONSTANT_HEAD_OUT   767.249390  \n",
       "                        DRAINS_IN             0.000000  "
      ]
     },
     "execution_count": 16,
     "metadata": {},
     "output_type": "execute_result"
    }
   ],
   "source": [
    "df = zb.get_dataframes(index_key='kstpkper')\n",
    "df.head()"
   ]
  },
  {
   "cell_type": "markdown",
   "metadata": {
    "deletable": true,
    "editable": true
   },
   "source": [
    "### Write Budget Output to CSV\n",
    "\n",
    "We can write the resulting recarray to a csv file with the `.to_csv()` method of the `ZoneBudget` object."
   ]
  },
  {
   "cell_type": "code",
   "execution_count": 17,
   "metadata": {
    "collapsed": false,
    "deletable": true,
    "editable": true
   },
   "outputs": [
    {
     "name": "stdout",
     "output_type": "stream",
     "text": [
      "totim  time_step  stress_period                 name       ZONE_1       ZONE_2       ZONE_3\n",
      "   1.0          0              0           STORAGE_IN     0.000000     0.000000     0.000000\n",
      "   1.0          0              0     CONSTANT_HEAD_IN     0.000000     0.000000     0.000000\n",
      "   1.0          0              0             WELLS_IN     0.000000     0.000000     0.000000\n",
      "   1.0          0              0            DRAINS_IN     0.000000     0.000000     0.000000\n",
      "   1.0          0              0          RECHARGE_IN  6276.861916     0.000000     0.000000\n",
      "   1.0          0              0            ZONE_1_IN     0.000000  3752.850586     0.000000\n",
      "   1.0          0              0            ZONE_2_IN  2218.183105     0.000000  1863.491943\n",
      "   1.0          0              0            ZONE_3_IN     0.000000  1096.248657     0.000000\n",
      "   1.0          0              0             TOTAL_IN  8495.045021  4849.099243  1863.491943\n",
      "   1.0          0              0          STORAGE_OUT     0.000000     0.000000     0.000000\n",
      "   1.0          0              0    CONSTANT_HEAD_OUT   911.639771   767.433716   767.249390\n",
      "   1.0          0              0            WELLS_OUT     0.000000     0.000000     0.000000\n",
      "   1.0          0              0           DRAINS_OUT  3832.150167     0.000000     0.000000\n",
      "   1.0          0              0         RECHARGE_OUT     0.000000     0.000000     0.000000\n",
      "   1.0          0              0           ZONE_1_OUT     0.000000  2218.183105     0.000000\n",
      "   1.0          0              0           ZONE_2_OUT  3752.850586     0.000000  1096.248657\n",
      "   1.0          0              0           ZONE_3_OUT     0.000000  1863.491943     0.000000\n",
      "   1.0          0              0            TOTAL_OUT  8496.640524  4849.108765  1863.498047\n",
      "   1.0          0              0               IN-OUT    -1.595503    -0.009521    -0.006104\n",
      "   1.0          0              0  PERCENT_DISCREPANCY    -0.018780    -0.000196    -0.000328\n",
      "1097.0          0           1096           STORAGE_IN     0.000000     0.000000     0.000000\n",
      "1097.0          0           1096     CONSTANT_HEAD_IN   145.417542    86.149040    86.217201\n",
      "1097.0          0           1096             WELLS_IN     0.000000     0.000000     0.000000\n",
      "1097.0          0           1096            DRAINS_IN     0.000000     0.000000     0.000000\n",
      "1097.0          0           1096          RECHARGE_IN  5190.390527     0.000000     0.000000\n",
      "1097.0          0           1096            ZONE_1_IN     0.000000  3295.723145     0.000000\n",
      "1097.0          0           1096            ZONE_2_IN  2993.026611     0.000000  1639.001221\n",
      "1097.0          0           1096            ZONE_3_IN     0.000000  1487.757812     0.000000\n",
      "1097.0          0           1096             TOTAL_IN  8328.834680  4869.629997  1725.218422\n",
      "1097.0          0           1096          STORAGE_OUT     0.000000     0.000000     0.000000\n",
      "1097.0          0           1096    CONSTANT_HEAD_OUT   270.298218   237.602493   237.462952\n",
      "1097.0          0           1096            WELLS_OUT  4762.799942     0.000000     0.000000\n",
      "1097.0          0           1096           DRAINS_OUT     0.000000     0.000000     0.000000\n",
      "1097.0          0           1096         RECHARGE_OUT     0.000000     0.000000     0.000000\n",
      "1097.0          0           1096           ZONE_1_OUT     0.000000  2993.026611     0.000000\n",
      "1097.0          0           1096           ZONE_2_OUT  3295.723145     0.000000  1487.757812\n",
      "1097.0          0           1096           ZONE_3_OUT     0.000000  1639.001221     0.000000\n",
      "1097.0          0           1096            TOTAL_OUT  8328.821304  4869.630325  1725.220764\n",
      "1097.0          0           1096               IN-OUT     0.013376    -0.000328    -0.002342\n",
      "1097.0          0           1096  PERCENT_DISCREPANCY     0.000161    -0.000007    -0.000136\n"
     ]
    }
   ],
   "source": [
    "zb = flopy.utils.ZoneBudget(cbc_f, zon, kstpkper=[(0, 0), (0, 1096)])\n",
    "zb.to_csv(os.path.join(loadpth, 'zonbud.csv'))\n",
    "\n",
    "# Read the file in to see the contents\n",
    "fname = os.path.join(loadpth, 'zonbud.csv')\n",
    "try:\n",
    "    import pandas as pd\n",
    "    print(pd.read_csv(fname).to_string(index=False))\n",
    "except:\n",
    "    with open(fname, 'r') as f:\n",
    "        for line in f.readlines():\n",
    "            print('\\t'.join(line.split(',')))"
   ]
  },
  {
   "cell_type": "markdown",
   "metadata": {
    "collapsed": true,
    "deletable": true,
    "editable": true
   },
   "source": [
    "### Net Budget\n",
    "Using the \"net\" keyword argument, we can request a net budget for each zone/record name or for a subset of zones and record names. Note that we can identify the record names we want without the added `\"_IN\"` or `\"_OUT\"` string suffix."
   ]
  },
  {
   "cell_type": "code",
   "execution_count": 18,
   "metadata": {
    "collapsed": false,
    "deletable": true,
    "editable": true
   },
   "outputs": [
    {
     "data": {
      "text/plain": [
       "array([(1.0, 0, 0, 'STORAGE', 0.0, 0.0), (1.0, 0, 0, 'WELLS', 0.0, 0.0),\n",
       "       (2.0, 0, 1, 'STORAGE', 219.27908273598587, 192.47897395201653), ...,\n",
       "       (1096.0, 0, 1095, 'WELLS', -1373.7826461791992, 0.0),\n",
       "       (1097.0, 0, 1096, 'STORAGE', 0.0, 0.0),\n",
       "       (1097.0, 0, 1096, 'WELLS', -4762.799942016602, 0.0)], \n",
       "      dtype=[('totim', '<f4'), ('time_step', '<i4'), ('stress_period', '<i4'), ('name', '<U50'), ('SURF', '<f8'), ('UFA', '<f8')])"
      ]
     },
     "execution_count": 18,
     "metadata": {},
     "output_type": "execute_result"
    }
   ],
   "source": [
    "zon = np.ones((nlay, nrow, ncol), np.int)\n",
    "zon[1, :, :] = 2\n",
    "zon[2, :, :] = 3\n",
    "\n",
    "aliases = {1: 'SURF', 2:'CONF', 3: 'UFA'}\n",
    "zb = flopy.utils.ZoneBudget(cbc_f, zon, kstpkper=None, totim=None, aliases=aliases)\n",
    "cfd = zb.get_budget(names=['STORAGE', 'WELLS'], zones=['SURF', 'UFA'], net=True)\n",
    "cfd"
   ]
  },
  {
   "cell_type": "code",
   "execution_count": 19,
   "metadata": {
    "collapsed": false,
    "deletable": true,
    "editable": true,
    "scrolled": false
   },
   "outputs": [
    {
     "data": {
      "text/html": [
       "<div>\n",
       "<table border=\"1\" class=\"dataframe\">\n",
       "  <thead>\n",
       "    <tr style=\"text-align: right;\">\n",
       "      <th></th>\n",
       "      <th></th>\n",
       "      <th>SURF</th>\n",
       "      <th>UFA</th>\n",
       "    </tr>\n",
       "    <tr>\n",
       "      <th>totim</th>\n",
       "      <th>name</th>\n",
       "      <th></th>\n",
       "      <th></th>\n",
       "    </tr>\n",
       "  </thead>\n",
       "  <tbody>\n",
       "    <tr>\n",
       "      <th rowspan=\"2\" valign=\"top\">1.0</th>\n",
       "      <th>STORAGE</th>\n",
       "      <td>0.000000</td>\n",
       "      <td>0.000000</td>\n",
       "    </tr>\n",
       "    <tr>\n",
       "      <th>WELLS</th>\n",
       "      <td>0.000000</td>\n",
       "      <td>0.000000</td>\n",
       "    </tr>\n",
       "    <tr>\n",
       "      <th rowspan=\"2\" valign=\"top\">2.0</th>\n",
       "      <th>STORAGE</th>\n",
       "      <td>219.279083</td>\n",
       "      <td>192.478974</td>\n",
       "    </tr>\n",
       "    <tr>\n",
       "      <th>WELLS</th>\n",
       "      <td>-1302.403252</td>\n",
       "      <td>0.000000</td>\n",
       "    </tr>\n",
       "    <tr>\n",
       "      <th rowspan=\"2\" valign=\"top\">3.0</th>\n",
       "      <th>STORAGE</th>\n",
       "      <td>575.833970</td>\n",
       "      <td>386.666232</td>\n",
       "    </tr>\n",
       "    <tr>\n",
       "      <th>WELLS</th>\n",
       "      <td>-1618.676394</td>\n",
       "      <td>0.000000</td>\n",
       "    </tr>\n",
       "  </tbody>\n",
       "</table>\n",
       "</div>"
      ],
      "text/plain": [
       "                      SURF         UFA\n",
       "totim name                            \n",
       "1.0   STORAGE     0.000000    0.000000\n",
       "      WELLS       0.000000    0.000000\n",
       "2.0   STORAGE   219.279083  192.478974\n",
       "      WELLS   -1302.403252    0.000000\n",
       "3.0   STORAGE   575.833970  386.666232\n",
       "      WELLS   -1618.676394    0.000000"
      ]
     },
     "execution_count": 19,
     "metadata": {},
     "output_type": "execute_result"
    }
   ],
   "source": [
    "df = zb.get_dataframes(names=['STORAGE', 'WELLS'], zones=['SURF', 'UFA'], net=True)\n",
    "df.head(6)"
   ]
  },
  {
   "cell_type": "markdown",
   "metadata": {},
   "source": [
    "## Plot Budget Components\n",
    "The following is a function that can be used to better visualize the budget components using matplotlib."
   ]
  },
  {
   "cell_type": "code",
   "execution_count": 20,
   "metadata": {
    "collapsed": true
   },
   "outputs": [],
   "source": [
    "def tick_label_formatter_comma_sep(x, pos):\n",
    "    return '{:,.0f}'.format(x)\n",
    "\n",
    "\n",
    "def volumetric_budget_bar_plot(values_in, values_out, labels, **kwargs):\n",
    "    if 'ax' in kwargs:\n",
    "        ax = kwargs.pop('ax')\n",
    "    else:\n",
    "        ax = plt.gca()\n",
    "\n",
    "    x_pos = np.arange(len(values_in))\n",
    "    rects_in = ax.bar(x_pos, values_in, align='center', alpha=0.5)\n",
    "\n",
    "    x_pos = np.arange(len(values_out))\n",
    "    rects_out = ax.bar(x_pos, values_out, align='center', alpha=0.5)\n",
    "\n",
    "    plt.xticks(list(x_pos), labels)\n",
    "    ax.set_xticklabels(ax.xaxis.get_majorticklabels(), rotation=90)\n",
    "    ax.get_yaxis().set_major_formatter(mpl.ticker.FuncFormatter(tick_label_formatter_comma_sep))\n",
    "\n",
    "    ymin, ymax = ax.get_ylim()\n",
    "    if ymax != 0:\n",
    "        if abs(ymin) / ymax < .33:\n",
    "            ymin = -(ymax * .5)\n",
    "        else:\n",
    "            ymin *= 1.35\n",
    "    else:\n",
    "        ymin *= 1.35\n",
    "    plt.ylim([ymin, ymax * 1.25])\n",
    "\n",
    "    for i, rect in enumerate(rects_in):\n",
    "        label = '{:,.0f}'.format(values_in[i])\n",
    "        height = values_in[i]\n",
    "        x = rect.get_x() + rect.get_width() / 2\n",
    "        y = height + (.02 * ymax)\n",
    "        vertical_alignment = 'bottom'\n",
    "        horizontal_alignment = 'center'\n",
    "        ax.text(x, y, label, ha=horizontal_alignment, va=vertical_alignment, rotation=90)\n",
    "\n",
    "    for i, rect in enumerate(rects_out):\n",
    "        label = '{:,.0f}'.format(values_out[i])\n",
    "        height = values_out[i]\n",
    "        x = rect.get_x() + rect.get_width() / 2\n",
    "        y = height + (.02 * ymin)\n",
    "        vertical_alignment = 'top'\n",
    "        horizontal_alignment = 'center'\n",
    "        ax.text(x, y, label, ha=horizontal_alignment, va=vertical_alignment, rotation=90)\n",
    "\n",
    "    # horizontal line indicating zero\n",
    "    ax.plot([rects_in[0].get_x() - rects_in[0].get_width() / 2,\n",
    "             rects_in[-1].get_x() + rects_in[-1].get_width()], [0, 0], \"k\")\n",
    "\n",
    "    return rects_in, rects_out"
   ]
  },
  {
   "cell_type": "code",
   "execution_count": 21,
   "metadata": {
    "collapsed": false
   },
   "outputs": [
    {
     "data": {
      "image/png": "[encoded data removed]",
      "text/plain": [
       "<matplotlib.figure.Figure at 0xd3d04314e0>"
      ]
     },
     "metadata": {},
     "output_type": "display_data"
    }
   ],
   "source": [
    "fig = plt.figure(figsize=(16, 5))\n",
    "\n",
    "times = [2., 500., 1000., 1095.]\n",
    "\n",
    "for idx, time in enumerate(times):\n",
    "\n",
    "    ax = fig.add_subplot(1, len(times), idx + 1)\n",
    "\n",
    "    zb = flopy.utils.ZoneBudget(cbc_f, zon, kstpkper=None, totim=time, aliases=aliases)\n",
    "\n",
    "    recname = 'STORAGE'\n",
    "    values_in = zb.get_dataframes(names='{}_IN'.format(recname)).T.squeeze()\n",
    "    values_out = zb.get_dataframes(names='{}_OUT'.format(recname)).T.squeeze() * -1\n",
    "    labels = values_in.index.tolist()\n",
    "\n",
    "    rects_in, rects_out = volumetric_budget_bar_plot(values_in, values_out, labels, ax=ax)\n",
    "\n",
    "    plt.ylabel('Volumetric rate, in Mgal/d')\n",
    "    plt.title('totim = {}'.format(time))\n",
    "\n",
    "plt.tight_layout()\n",
    "plt.show()"
   ]
  }
 ],
 "metadata": {
  "anaconda-cloud": {},
  "kernelspec": {
   "display_name": "Python 3",
   "language": "python",
   "name": "python3"
  },
  "language_info": {
   "codemirror_mode": {
    "name": "ipython",
    "version": 3
   },
   "file_extension": ".py",
   "mimetype": "text/x-python",
   "name": "python",
   "nbconvert_exporter": "python",
   "pygments_lexer": "ipython3",
   "version": "3.5.3"
  }
 },
 "nbformat": 4,
 "nbformat_minor": 0
}
